{
 "cells": [
  {
   "cell_type": "code",
   "execution_count": 2,
   "id": "dc186235",
   "metadata": {},
   "outputs": [
    {
     "name": "stderr",
     "output_type": "stream",
     "text": [
      "c:\\Users\\User1\\AppData\\Local\\Programs\\Python\\Python311\\Lib\\site-packages\\tqdm\\auto.py:21: TqdmWarning: IProgress not found. Please update jupyter and ipywidgets. See https://ipywidgets.readthedocs.io/en/stable/user_install.html\n",
      "  from .autonotebook import tqdm as notebook_tqdm\n"
     ]
    }
   ],
   "source": [
    "import torch\n",
    "from transformers import AutoTokenizer, AutoModelForCausalLM, BitsAndBytesConfig\n",
    "from collections import OrderedDict"
   ]
  },
  {
   "cell_type": "code",
   "execution_count": 3,
   "id": "33741ee5",
   "metadata": {},
   "outputs": [
    {
     "name": "stderr",
     "output_type": "stream",
     "text": [
      "c:\\Users\\User1\\AppData\\Local\\Programs\\Python\\Python311\\Lib\\site-packages\\transformers\\models\\auto\\tokenization_auto.py:934: FutureWarning: The `use_auth_token` argument is deprecated and will be removed in v5 of Transformers. Please use `token` instead.\n",
      "  warnings.warn(\n",
      "Loading checkpoint shards: 100%|██████████| 4/4 [00:50<00:00, 12.52s/it]\n"
     ]
    }
   ],
   "source": [
    "# Load model (using BitsAndBytes for efficiency)\n",
    "model_name = \"meta-llama/Llama-3.1-8B-Instruct\"\n",
    "\n",
    "bnb_config = BitsAndBytesConfig(\n",
    "    load_in_4bit=True,\n",
    "    bnb_4bit_quant_type=\"nf4\",\n",
    "    bnb_4bit_compute_dtype=torch.float16,\n",
    "    bnb_4bit_use_double_quant=True,\n",
    ")\n",
    "\n",
    "tokenizer = AutoTokenizer.from_pretrained(model_name, use_auth_token=True)\n",
    "if tokenizer.pad_token is None:\n",
    "    tokenizer.pad_token = tokenizer.eos_token\n",
    "\n",
    "model = AutoModelForCausalLM.from_pretrained(\n",
    "    model_name,\n",
    "    quantization_config=bnb_config,\n",
    "    device_map=\"auto\",\n",
    "    trust_remote_code=True,\n",
    "    torch_dtype=torch.float16,\n",
    "    token=True\n",
    ")"
   ]
  },
  {
   "cell_type": "code",
   "execution_count": 4,
   "id": "d6d7367b",
   "metadata": {},
   "outputs": [
    {
     "name": "stdout",
     "output_type": "stream",
     "text": [
      "Model type: LlamaForCausalLM\n",
      "Model config: llama\n",
      "Number of layers: 32\n",
      "Hidden size: 4096\n",
      "Number of attention heads: 32\n",
      "\n",
      "Top-level model components:\n",
      "  model: LlamaModel\n",
      "  lm_head: Linear\n",
      "\n",
      "Core model components:\n",
      "  model.embed_tokens: Embedding\n",
      "  model.layers: ModuleList\n",
      "    Number of transformer layers: 32\n",
      "  model.norm: LlamaRMSNorm\n",
      "  model.rotary_emb: LlamaRotaryEmbedding\n",
      "\n"
     ]
    }
   ],
   "source": [
    "#Model Details\n",
    "print(\"Model type:\", type(model).__name__)\n",
    "print(\"Model config:\", model.config.model_type)\n",
    "print(\"Number of layers:\", model.config.num_hidden_layers)\n",
    "print(\"Hidden size:\", model.config.hidden_size)\n",
    "print(\"Number of attention heads:\", model.config.num_attention_heads)\n",
    "print()\n",
    "\n",
    "# Top-level components\n",
    "print(\"Top-level model components:\")\n",
    "for name, module in model.named_children():\n",
    "    print(f\"  {name}: {type(module).__name__}\")\n",
    "print()\n",
    "\n",
    "# Model layers structure (Llama specific)\n",
    "if hasattr(model, 'model'):\n",
    "    print(\"Core model components:\")\n",
    "    for name, module in model.model.named_children():\n",
    "        print(f\"  model.{name}: {type(module).__name__}\")\n",
    "        if name == \"layers\":\n",
    "            print(f\"    Number of transformer layers: {len(module)}\")\n",
    "print()"
   ]
  }
 ],
 "metadata": {
  "kernelspec": {
   "display_name": "Python 3",
   "language": "python",
   "name": "python3"
  },
  "language_info": {
   "codemirror_mode": {
    "name": "ipython",
    "version": 3
   },
   "file_extension": ".py",
   "mimetype": "text/x-python",
   "name": "python",
   "nbconvert_exporter": "python",
   "pygments_lexer": "ipython3",
   "version": "3.11.8"
  }
 },
 "nbformat": 4,
 "nbformat_minor": 5
}
